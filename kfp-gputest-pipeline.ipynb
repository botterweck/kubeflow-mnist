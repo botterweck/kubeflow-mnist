{
 "cells": [
  {
   "cell_type": "code",
   "execution_count": 1,
   "id": "73c9fa01-5551-4569-8332-9cd638b9de53",
   "metadata": {},
   "outputs": [],
   "source": [
    "import kfp\n",
    "import kfp.dsl as dsl\n",
    "\n",
    "BASE_IMAGE = 'tensorflow/tensorflow:latest-gpu'"
   ]
  },
  {
   "cell_type": "code",
   "execution_count": 3,
   "id": "05bb9266-1deb-4179-9a57-642236d11e82",
   "metadata": {},
   "outputs": [],
   "source": [
    "@dsl.component(\n",
    "    base_image=BASE_IMAGE,\n",
    ")\n",
    "def check_gpu_access():\n",
    "    \"\"\"\n",
    "    A simple component that checks and prints GPU availability using TensorFlow.\n",
    "    \"\"\"\n",
    "    import tensorflow as tf\n",
    "    import logging # Use logging for better output in KFP\n",
    "\n",
    "    logging.basicConfig(level=logging.INFO)\n",
    "\n",
    "    try:\n",
    "        gpus = tf.config.list_physical_devices('GPU')\n",
    "        if not gpus:\n",
    "            print(\"TensorFlow CANNOT see any GPUs. GPU acceleration is NOT possible.\")\n",
    "        else:\n",
    "            print(f\"TensorFlow found {len(gpus)} GPU(s): {gpus}\")\n",
    "\n",
    "    except Exception as e:\n",
    "        logging.error(f\"An error occurred while checking for GPUs: {e}\")\n",
    "        raise e"
   ]
  },
  {
   "cell_type": "code",
   "execution_count": 4,
   "id": "da513971-4d3f-4946-b98d-d231d8d9fa0a",
   "metadata": {},
   "outputs": [],
   "source": [
    "@dsl.pipeline(\n",
    "    name='gpu-test-pipeline',\n",
    "    description='A minimal pipeline to test GPU access in a component.'\n",
    ")\n",
    "def gpu_test_pipeline():\n",
    "    \"\"\"Defines the pipeline structure.\"\"\"\n",
    "    check_gpu_task = (\n",
    "        check_gpu_access()\n",
    "        .set_display_name(\"Check GPU Availability\")\n",
    "        .set_gpu_limit(1)\n",
    "        .add_node_selector_constraint('nvidia.com/gpu')\n",
    "        .set_memory_limit(\"2G\")\n",
    "        .set_memory_request(\"1G\")\n",
    "        .set_cpu_limit(\"1\")\n",
    "        .set_cpu_request(\"0.5\")\n",
    "    )"
   ]
  },
  {
   "cell_type": "code",
   "execution_count": 5,
   "id": "a5cd8544-513f-436e-9c04-0a1f8fe1d611",
   "metadata": {},
   "outputs": [
    {
     "name": "stderr",
     "output_type": "stream",
     "text": [
      "/opt/conda/lib/python3.11/site-packages/kfp/client/client.py:159: FutureWarning: This client only works with Kubeflow Pipeline v2.0.0-beta.2 and later versions.\n",
      "  warnings.warn(\n"
     ]
    },
    {
     "data": {
      "text/html": [
       "<a href=\"/pipeline/#/experiments/details/ceeeb68d-a201-4e62-b693-c2997177635e\" target=\"_blank\" >Experiment details</a>."
      ],
      "text/plain": [
       "<IPython.core.display.HTML object>"
      ]
     },
     "metadata": {},
     "output_type": "display_data"
    },
    {
     "data": {
      "text/html": [
       "<a href=\"/pipeline/#/runs/details/92c6d5bf-bb86-406b-807c-1db9b513f8d0\" target=\"_blank\" >Run details</a>."
      ],
      "text/plain": [
       "<IPython.core.display.HTML object>"
      ]
     },
     "metadata": {},
     "output_type": "display_data"
    },
    {
     "data": {
      "text/plain": [
       "RunPipelineResult(run_id=92c6d5bf-bb86-406b-807c-1db9b513f8d0)"
      ]
     },
     "execution_count": 5,
     "metadata": {},
     "output_type": "execute_result"
    }
   ],
   "source": [
    "client = kfp.Client()\n",
    "client.create_run_from_pipeline_func(\n",
    "    gpu_test_pipeline,\n",
    "    experiment_name=\"mnist_pipeline\",\n",
    ")"
   ]
  },
  {
   "cell_type": "code",
   "execution_count": null,
   "id": "8527333e-b796-4af6-93a9-e2dc44882dc6",
   "metadata": {},
   "outputs": [],
   "source": []
  }
 ],
 "metadata": {
  "kernelspec": {
   "display_name": "Python 3 (ipykernel)",
   "language": "python",
   "name": "python3"
  },
  "language_info": {
   "codemirror_mode": {
    "name": "ipython",
    "version": 3
   },
   "file_extension": ".py",
   "mimetype": "text/x-python",
   "name": "python",
   "nbconvert_exporter": "python",
   "pygments_lexer": "ipython3",
   "version": "3.11.11"
  }
 },
 "nbformat": 4,
 "nbformat_minor": 5
}
